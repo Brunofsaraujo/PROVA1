{
 "cells": [
  {
   "cell_type": "code",
   "execution_count": 1,
   "id": "b189237b-7419-44de-bb45-2ccf8edf618c",
   "metadata": {},
   "outputs": [],
   "source": [
    "class No:\n",
    "    def __init__(self, valor):\n",
    "        self.valor = valor\n",
    "        self.proximo = None\n",
    "\n",
    "class ListaEncadeada:\n",
    "    def __init__(self):\n",
    "        self.inicio = None\n",
    "\n",
    "    def inserir(self, valor):\n",
    "        novo_no = No(valor)\n",
    "        if self.inicio is None:\n",
    "            self.inicio = novo_no\n",
    "        else:\n",
    "            atual = self.inicio\n",
    "            while atual.proximo:\n",
    "                atual = atual.proximo\n",
    "            atual.proximo = novo_no\n",
    "\n",
    "    def contar(self):\n",
    "        numero_elementos = 0\n",
    "        no_atual = self.inicio\n",
    "        if no_atual is None:            \n",
    "            return numero_elementos\n",
    "        while no_atual:\n",
    "            numero_elementos += 1\n",
    "            no_atual = no_atual.proximo\n",
    "        return numero_elementos"
   ]
  },
  {
   "cell_type": "code",
   "execution_count": 2,
   "id": "5b6d0b72-22ef-4c5f-b9b9-0351f3d58cf7",
   "metadata": {},
   "outputs": [
    {
     "name": "stdout",
     "output_type": "stream",
     "text": [
      "3\n"
     ]
    }
   ],
   "source": [
    "lista_encadeada = ListaEncadeada()\n",
    "\n",
    "#Inserindo números na lista encadeada:\n",
    "lista_encadeada.inserir(5)\n",
    "lista_encadeada.inserir(15)\n",
    "lista_encadeada.inserir(25)\n",
    "\n",
    "#Contando o número de elementos:\n",
    "print(lista_encadeada.contar()) #Saída esperada: 3"
   ]
  }
 ],
 "metadata": {
  "kernelspec": {
   "display_name": "Python 3 (ipykernel)",
   "language": "python",
   "name": "python3"
  },
  "language_info": {
   "codemirror_mode": {
    "name": "ipython",
    "version": 3
   },
   "file_extension": ".py",
   "mimetype": "text/x-python",
   "name": "python",
   "nbconvert_exporter": "python",
   "pygments_lexer": "ipython3",
   "version": "3.12.4"
  }
 },
 "nbformat": 4,
 "nbformat_minor": 5
}
